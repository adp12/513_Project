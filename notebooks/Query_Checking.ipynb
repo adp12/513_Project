{
 "cells": [
  {
   "cell_type": "code",
   "execution_count": 5,
   "id": "e346b83a",
   "metadata": {},
   "outputs": [],
   "source": [
    "import os\n",
    "import pandas as pd\n",
    "import numpy as np\n",
    "import sqlite3\n",
    "from pprint import pprint"
   ]
  },
  {
   "cell_type": "code",
   "execution_count": 2,
   "id": "2df4cff6",
   "metadata": {},
   "outputs": [],
   "source": [
    "from pandasql import sqldf\n",
    "pysqldf = lambda q: sqldf(q, globals())"
   ]
  },
  {
   "cell_type": "code",
   "execution_count": 3,
   "id": "35b2ab41",
   "metadata": {},
   "outputs": [],
   "source": [
    "db = sqlite3.connect(r\"C:\\sqlite\\db\\CS513.db\")"
   ]
  },
  {
   "cell_type": "code",
   "execution_count": 4,
   "id": "fcfa4d00",
   "metadata": {},
   "outputs": [],
   "source": [
    "original_data = pd.read_csv(\"Data/Food_Inspections.csv\")"
   ]
  },
  {
   "cell_type": "markdown",
   "id": "698f0a61",
   "metadata": {},
   "source": [
    "## Query Checking Restaurant Names"
   ]
  },
  {
   "cell_type": "markdown",
   "id": "c7c6b165",
   "metadata": {},
   "source": [
    "Difference in number of Restaurant Names"
   ]
  },
  {
   "cell_type": "code",
   "execution_count": 15,
   "id": "a3642100",
   "metadata": {},
   "outputs": [
    {
     "name": "stdout",
     "output_type": "stream",
     "text": [
      "[(12332,)]\n"
     ]
    }
   ],
   "source": [
    "query = 'SELECT COUNT(DISTINCT rest_name) AS \"Restaurants Names\" FROM restaurant'\n",
    "cursor = db.execute(query)\n",
    "out = cursor.fetchall()\n",
    "pprint(out)"
   ]
  },
  {
   "cell_type": "code",
   "execution_count": 19,
   "id": "5582d234",
   "metadata": {},
   "outputs": [
    {
     "data": {
      "text/html": [
       "<div>\n",
       "<style scoped>\n",
       "    .dataframe tbody tr th:only-of-type {\n",
       "        vertical-align: middle;\n",
       "    }\n",
       "\n",
       "    .dataframe tbody tr th {\n",
       "        vertical-align: top;\n",
       "    }\n",
       "\n",
       "    .dataframe thead th {\n",
       "        text-align: right;\n",
       "    }\n",
       "</style>\n",
       "<table border=\"1\" class=\"dataframe\">\n",
       "  <thead>\n",
       "    <tr style=\"text-align: right;\">\n",
       "      <th></th>\n",
       "      <th>Restaurants Names</th>\n",
       "    </tr>\n",
       "  </thead>\n",
       "  <tbody>\n",
       "    <tr>\n",
       "      <th>0</th>\n",
       "      <td>24685</td>\n",
       "    </tr>\n",
       "  </tbody>\n",
       "</table>\n",
       "</div>"
      ],
      "text/plain": [
       "   Restaurants Names\n",
       "0              24685"
      ]
     },
     "execution_count": 19,
     "metadata": {},
     "output_type": "execute_result"
    }
   ],
   "source": [
    "query = 'SELECT COUNT(DISTINCT \"DBA Name\") AS \"Restaurants Names\" FROM original_data'\n",
    "pysqldf(query)"
   ]
  },
  {
   "cell_type": "markdown",
   "id": "932e5515",
   "metadata": {},
   "source": [
    "Difference in number of Restaurant Names where the city is Chicago"
   ]
  },
  {
   "cell_type": "code",
   "execution_count": 25,
   "id": "5fa7b5ee",
   "metadata": {},
   "outputs": [
    {
     "name": "stdout",
     "output_type": "stream",
     "text": [
      "[(12332,)]\n"
     ]
    }
   ],
   "source": [
    "query = 'SELECT COUNT(DISTINCT rest_name) AS \"Restaurants Names\" FROM restaurant WHERE city LIKE \"%hicago\"'\n",
    "cursor = db.execute(query)\n",
    "out = cursor.fetchall()\n",
    "pprint(out)"
   ]
  },
  {
   "cell_type": "code",
   "execution_count": 26,
   "id": "af82344e",
   "metadata": {},
   "outputs": [
    {
     "data": {
      "text/html": [
       "<div>\n",
       "<style scoped>\n",
       "    .dataframe tbody tr th:only-of-type {\n",
       "        vertical-align: middle;\n",
       "    }\n",
       "\n",
       "    .dataframe tbody tr th {\n",
       "        vertical-align: top;\n",
       "    }\n",
       "\n",
       "    .dataframe thead th {\n",
       "        text-align: right;\n",
       "    }\n",
       "</style>\n",
       "<table border=\"1\" class=\"dataframe\">\n",
       "  <thead>\n",
       "    <tr style=\"text-align: right;\">\n",
       "      <th></th>\n",
       "      <th>Restaurants Names</th>\n",
       "    </tr>\n",
       "  </thead>\n",
       "  <tbody>\n",
       "    <tr>\n",
       "      <th>0</th>\n",
       "      <td>24579</td>\n",
       "    </tr>\n",
       "  </tbody>\n",
       "</table>\n",
       "</div>"
      ],
      "text/plain": [
       "   Restaurants Names\n",
       "0              24579"
      ]
     },
     "execution_count": 26,
     "metadata": {},
     "output_type": "execute_result"
    }
   ],
   "source": [
    "query = 'SELECT COUNT(DISTINCT \"DBA Name\") AS \"Restaurants Names\" FROM original_data WHERE City like \"%hicago\"'\n",
    "pysqldf(query)"
   ]
  },
  {
   "cell_type": "code",
   "execution_count": null,
   "id": "2e3e3959",
   "metadata": {},
   "outputs": [],
   "source": []
  },
  {
   "cell_type": "markdown",
   "id": "bab85f91",
   "metadata": {},
   "source": [
    "## Query Checking Facility Types"
   ]
  },
  {
   "cell_type": "code",
   "execution_count": 16,
   "id": "69272556",
   "metadata": {},
   "outputs": [
    {
     "name": "stdout",
     "output_type": "stream",
     "text": [
      "[(113,)]\n"
     ]
    }
   ],
   "source": [
    "query = 'SELECT COUNT(DISTINCT facility_type) AS \"Facility Types\" FROM restaurant'\n",
    "cursor = db.execute(query)\n",
    "out = cursor.fetchall()\n",
    "pprint(out)"
   ]
  },
  {
   "cell_type": "code",
   "execution_count": 21,
   "id": "bde61d22",
   "metadata": {
    "scrolled": true
   },
   "outputs": [
    {
     "data": {
      "text/html": [
       "<div>\n",
       "<style scoped>\n",
       "    .dataframe tbody tr th:only-of-type {\n",
       "        vertical-align: middle;\n",
       "    }\n",
       "\n",
       "    .dataframe tbody tr th {\n",
       "        vertical-align: top;\n",
       "    }\n",
       "\n",
       "    .dataframe thead th {\n",
       "        text-align: right;\n",
       "    }\n",
       "</style>\n",
       "<table border=\"1\" class=\"dataframe\">\n",
       "  <thead>\n",
       "    <tr style=\"text-align: right;\">\n",
       "      <th></th>\n",
       "      <th>Facility Types</th>\n",
       "    </tr>\n",
       "  </thead>\n",
       "  <tbody>\n",
       "    <tr>\n",
       "      <th>0</th>\n",
       "      <td>447</td>\n",
       "    </tr>\n",
       "  </tbody>\n",
       "</table>\n",
       "</div>"
      ],
      "text/plain": [
       "   Facility Types\n",
       "0             447"
      ]
     },
     "execution_count": 21,
     "metadata": {},
     "output_type": "execute_result"
    }
   ],
   "source": [
    "query = 'SELECT COUNT(DISTINCT \"Facility Type\") AS \"Facility Types\" FROM original_data'\n",
    "pysqldf(query)"
   ]
  },
  {
   "cell_type": "code",
   "execution_count": null,
   "id": "b3910ab5",
   "metadata": {},
   "outputs": [],
   "source": []
  },
  {
   "cell_type": "markdown",
   "id": "79768c52",
   "metadata": {},
   "source": [
    "## Query Checking City"
   ]
  },
  {
   "cell_type": "code",
   "execution_count": 22,
   "id": "a694a59c",
   "metadata": {},
   "outputs": [
    {
     "name": "stdout",
     "output_type": "stream",
     "text": [
      "[(1,)]\n"
     ]
    }
   ],
   "source": [
    "query = 'SELECT COUNT(DISTINCT city) AS \"Cities\" FROM restaurant'\n",
    "cursor = db.execute(query)\n",
    "out = cursor.fetchall()\n",
    "pprint(out)"
   ]
  },
  {
   "cell_type": "code",
   "execution_count": 23,
   "id": "14e51ed1",
   "metadata": {},
   "outputs": [
    {
     "data": {
      "text/html": [
       "<div>\n",
       "<style scoped>\n",
       "    .dataframe tbody tr th:only-of-type {\n",
       "        vertical-align: middle;\n",
       "    }\n",
       "\n",
       "    .dataframe tbody tr th {\n",
       "        vertical-align: top;\n",
       "    }\n",
       "\n",
       "    .dataframe thead th {\n",
       "        text-align: right;\n",
       "    }\n",
       "</style>\n",
       "<table border=\"1\" class=\"dataframe\">\n",
       "  <thead>\n",
       "    <tr style=\"text-align: right;\">\n",
       "      <th></th>\n",
       "      <th>Cities</th>\n",
       "    </tr>\n",
       "  </thead>\n",
       "  <tbody>\n",
       "    <tr>\n",
       "      <th>0</th>\n",
       "      <td>57</td>\n",
       "    </tr>\n",
       "  </tbody>\n",
       "</table>\n",
       "</div>"
      ],
      "text/plain": [
       "   Cities\n",
       "0      57"
      ]
     },
     "execution_count": 23,
     "metadata": {},
     "output_type": "execute_result"
    }
   ],
   "source": [
    "query = 'SELECT COUNT(DISTINCT \"City\") AS \"Cities\" FROM original_data'\n",
    "pysqldf(query)"
   ]
  },
  {
   "cell_type": "markdown",
   "id": "3a146e8e",
   "metadata": {},
   "source": [
    "Shows 57 cities down to just the target: Chicago"
   ]
  },
  {
   "cell_type": "code",
   "execution_count": 10,
   "id": "dbd7efa1",
   "metadata": {
    "scrolled": true
   },
   "outputs": [
    {
     "data": {
      "text/plain": [
       "Index(['Inspection ID', 'DBA Name', 'AKA Name', 'License #', 'Facility Type',\n",
       "       'Risk', 'Address', 'City', 'State', 'Zip', 'Inspection Date',\n",
       "       'Inspection Type', 'Results', 'Violations', 'Latitude', 'Longitude',\n",
       "       'Location'],\n",
       "      dtype='object')"
      ]
     },
     "execution_count": 10,
     "metadata": {},
     "output_type": "execute_result"
    }
   ],
   "source": [
    "original_data.columns"
   ]
  },
  {
   "cell_type": "code",
   "execution_count": 28,
   "id": "61e85a64",
   "metadata": {},
   "outputs": [
    {
     "name": "stdout",
     "output_type": "stream",
     "text": [
      "[(96063,)]\n"
     ]
    }
   ],
   "source": [
    "query = 'SELECT COUNT(DISTINCT inspection_id) AS \"Inspection ID\" FROM inspection'\n",
    "cursor = db.execute(query)\n",
    "out = cursor.fetchall()\n",
    "pprint(out)"
   ]
  },
  {
   "cell_type": "code",
   "execution_count": 31,
   "id": "a443f327",
   "metadata": {},
   "outputs": [
    {
     "data": {
      "text/html": [
       "<div>\n",
       "<style scoped>\n",
       "    .dataframe tbody tr th:only-of-type {\n",
       "        vertical-align: middle;\n",
       "    }\n",
       "\n",
       "    .dataframe tbody tr th {\n",
       "        vertical-align: top;\n",
       "    }\n",
       "\n",
       "    .dataframe thead th {\n",
       "        text-align: right;\n",
       "    }\n",
       "</style>\n",
       "<table border=\"1\" class=\"dataframe\">\n",
       "  <thead>\n",
       "    <tr style=\"text-align: right;\">\n",
       "      <th></th>\n",
       "      <th>Inspection ID</th>\n",
       "    </tr>\n",
       "  </thead>\n",
       "  <tbody>\n",
       "    <tr>\n",
       "      <th>0</th>\n",
       "      <td>153488</td>\n",
       "    </tr>\n",
       "  </tbody>\n",
       "</table>\n",
       "</div>"
      ],
      "text/plain": [
       "   Inspection ID\n",
       "0         153488"
      ]
     },
     "execution_count": 31,
     "metadata": {},
     "output_type": "execute_result"
    }
   ],
   "source": [
    "query = 'SELECT COUNT(DISTINCT \"Inspection ID\") AS \"Inspection ID\" FROM original_data WHERE city LIKE \"%hicago\"'\n",
    "pysqldf(query)"
   ]
  },
  {
   "cell_type": "code",
   "execution_count": null,
   "id": "76858c75",
   "metadata": {},
   "outputs": [],
   "source": []
  }
 ],
 "metadata": {
  "kernelspec": {
   "display_name": "Python 3 (ipykernel)",
   "language": "python",
   "name": "python3"
  },
  "language_info": {
   "codemirror_mode": {
    "name": "ipython",
    "version": 3
   },
   "file_extension": ".py",
   "mimetype": "text/x-python",
   "name": "python",
   "nbconvert_exporter": "python",
   "pygments_lexer": "ipython3",
   "version": "3.8.5"
  }
 },
 "nbformat": 4,
 "nbformat_minor": 5
}
