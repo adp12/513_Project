{
 "cells": [
  {
   "cell_type": "code",
   "execution_count": 1,
   "id": "ab38f430",
   "metadata": {},
   "outputs": [],
   "source": [
    "import os\n",
    "import pandas as pd\n",
    "import numpy as np\n",
    "import sqlite3\n",
    "%reload_ext sql"
   ]
  },
  {
   "cell_type": "markdown",
   "id": "dbf1b105",
   "metadata": {},
   "source": [
    "## Setup sqlite3"
   ]
  },
  {
   "cell_type": "markdown",
   "id": "54d03dc2",
   "metadata": {},
   "source": [
    "1. Download the sqlite tools precompiled binaries for your OS from: https://www.sqlite.org/download.html\n",
    "2. Create an sqlite folder somewhere like in your ProgramFiles or User Home directory and unpack the tools into the file\n",
    "3. Add the file location to your PATH variables\n",
    "\n",
    "helpful resource: https://www.sqlitetutorial.net/sqlite-python/creating-database/\n",
    "\n",
    "for my setup, simply did the above, and added a db folder to store the local dbs"
   ]
  },
  {
   "cell_type": "markdown",
   "id": "ea4c8ae2",
   "metadata": {},
   "source": [
    "## Creating Database tables"
   ]
  },
  {
   "cell_type": "code",
   "execution_count": 3,
   "id": "da303f1a",
   "metadata": {},
   "outputs": [],
   "source": [
    "db = sqlite3.connect(r\"C:\\sqlite\\db\\CS513.db\")"
   ]
  },
  {
   "cell_type": "code",
   "execution_count": 4,
   "id": "ebea8721",
   "metadata": {},
   "outputs": [],
   "source": [
    "create_table_rest = \"\"\"\n",
    "CREATE TABLE IF NOT EXISTS restaurant(\n",
    "license BIGINT PRIMARY KEY,\n",
    "dba_name VARCHAR,\n",
    "aka_name VARCHAR,\n",
    "facility_type VARCHAR,\n",
    "risk VARCHAR,\n",
    "address VARCHAR,\n",
    "city VARCHAR,\n",
    "state VARCHAR,\n",
    "zip INT,\n",
    "lat REAL,\n",
    "long REAL\n",
    ");\n",
    "\"\"\""
   ]
  },
  {
   "cell_type": "code",
   "execution_count": 5,
   "id": "c23be51b",
   "metadata": {},
   "outputs": [],
   "source": [
    "create_table_violation = \"\"\"\n",
    "CREATE TABLE IF NOT EXISTS violation(\n",
    "violation_num INT PRIMARY KEY,\n",
    "desc VARCHAR\n",
    ");\n",
    "\"\"\""
   ]
  },
  {
   "cell_type": "code",
   "execution_count": 6,
   "id": "67ebfa65",
   "metadata": {},
   "outputs": [],
   "source": [
    "create_table_insp = \"\"\"\n",
    "CREATE TABLE IF NOT EXISTS inspection(\n",
    "inspection_id BIGINT PRIMARY KEY,\n",
    "license BIGINT,\n",
    "insp_date DATE,\n",
    "insp_type VARCHAR,\n",
    "results VARCHAR,\n",
    "violation_num INT,\n",
    "comments VARCHAR,\n",
    "FOREIGN KEY (license) REFERENCES restaurant (license),\n",
    "FOREIGN KEY (violation_num) REFERENCES violation (violation_num)\n",
    ");\n",
    "\"\"\""
   ]
  },
  {
   "cell_type": "code",
   "execution_count": 46,
   "id": "62a9c4b6",
   "metadata": {},
   "outputs": [
    {
     "data": {
      "text/plain": [
       "<sqlite3.Cursor at 0x27df0b77960>"
      ]
     },
     "execution_count": 46,
     "metadata": {},
     "output_type": "execute_result"
    }
   ],
   "source": [
    "db.execute(create_table_rest)"
   ]
  },
  {
   "cell_type": "code",
   "execution_count": 47,
   "id": "0ad6755f",
   "metadata": {},
   "outputs": [
    {
     "data": {
      "text/plain": [
       "<sqlite3.Cursor at 0x27df0b77b90>"
      ]
     },
     "execution_count": 47,
     "metadata": {},
     "output_type": "execute_result"
    }
   ],
   "source": [
    "db.execute(create_table_violation)"
   ]
  },
  {
   "cell_type": "code",
   "execution_count": 48,
   "id": "cb441183",
   "metadata": {},
   "outputs": [
    {
     "data": {
      "text/plain": [
       "<sqlite3.Cursor at 0x27df0b77dc0>"
      ]
     },
     "execution_count": 48,
     "metadata": {},
     "output_type": "execute_result"
    }
   ],
   "source": [
    "db.execute(create_table_insp)"
   ]
  },
  {
   "cell_type": "markdown",
   "id": "ba2fbdd0",
   "metadata": {},
   "source": [
    "## Adding Data to violation table"
   ]
  },
  {
   "cell_type": "code",
   "execution_count": 9,
   "id": "480fdca8",
   "metadata": {},
   "outputs": [],
   "source": [
    "#Reading in Parsed Violations and formatting for insert\n",
    "vio_df = pd.read_csv(\"Violations_Parsed.csv\")\n",
    "vio_df = vio_df[['Violation #', 'Violation Desc']]\n",
    "vio_df = vio_df.drop_duplicates(subset='Violation #')\n",
    "vio_df = vio_df.sort_values(by='Violation #')\n",
    "\n",
    "#Renaming to match existing db table's data names\n",
    "vio_df.columns = ['violation_num','desc']\n",
    "\n",
    "#Using Pandas to append data to existing db table\n",
    "vio_df.to_sql('violation',con=db, if_exists='append',index=False)"
   ]
  },
  {
   "cell_type": "code",
   "execution_count": 12,
   "id": "1b1dada3",
   "metadata": {},
   "outputs": [],
   "source": []
  },
  {
   "cell_type": "code",
   "execution_count": 18,
   "id": "d454f20b",
   "metadata": {},
   "outputs": [],
   "source": []
  },
  {
   "cell_type": "code",
   "execution_count": 23,
   "id": "4916af9e",
   "metadata": {},
   "outputs": [],
   "source": []
  },
  {
   "cell_type": "code",
   "execution_count": 26,
   "id": "4d769a82",
   "metadata": {},
   "outputs": [],
   "source": []
  },
  {
   "cell_type": "code",
   "execution_count": null,
   "id": "44ef4b7e",
   "metadata": {},
   "outputs": [],
   "source": []
  }
 ],
 "metadata": {
  "kernelspec": {
   "display_name": "Python 3 (ipykernel)",
   "language": "python",
   "name": "python3"
  },
  "language_info": {
   "codemirror_mode": {
    "name": "ipython",
    "version": 3
   },
   "file_extension": ".py",
   "mimetype": "text/x-python",
   "name": "python",
   "nbconvert_exporter": "python",
   "pygments_lexer": "ipython3",
   "version": "3.8.5"
  }
 },
 "nbformat": 4,
 "nbformat_minor": 5
}
