{
 "cells": [
  {
   "cell_type": "code",
   "execution_count": 8,
   "id": "2f750b24",
   "metadata": {},
   "outputs": [],
   "source": [
    "import os\n",
    "import pandas as pd\n",
    "import numpy as np\n",
    "import re"
   ]
  },
  {
   "cell_type": "code",
   "execution_count": 9,
   "id": "6f4aaa68",
   "metadata": {},
   "outputs": [],
   "source": [
    "#df = pd.read_csv(\"Data/Food-Inspections-Project-Start.csv\")\n",
    "df = pd.read_csv(\"Data/Food_Inspections_OR2.csv\")\n",
    "#This dataframe is from the most recent OpenRefine Cleaning"
   ]
  },
  {
   "cell_type": "code",
   "execution_count": 15,
   "id": "22621731",
   "metadata": {},
   "outputs": [],
   "source": [
    "#This function has been added to the OpenRefine Project and does not need to be run\n",
    "def clean_name(name):\n",
    "    name = str(name).upper()\n",
    "    \n",
    "    name = name.replace(\"'S\",\"\")\n",
    "    \n",
    "    name = re.sub(r' (INC|LLC|CO.|& CO.)+','',name)\n",
    "    \n",
    "    if re.search(r'([A-Za-z]+)(\\.)([A-Za-z]+)',name):\n",
    "        name = name.replace(\".\",\" \")\n",
    "    else:\n",
    "        name = name.replace(\".\",\"\")\n",
    "        \n",
    "    if re.search(r'([A-Za-z]+)(,)([A-Za-z]+)',name):\n",
    "        name = name.replace(\",\",\" \")\n",
    "    else:\n",
    "        name = name.replace(\",\",\"\")\n",
    "        \n",
    "    name = re.sub(r' (&) .*','',name)#get rid of the \"& Something\" from names\n",
    "    \n",
    "    name = re.sub(r'(ICE CREAM)','ICECREAM',name)#catch all for icecream\n",
    "\n",
    "    name = name.replace(\" INC\",\"\").replace(\" LLC\",\"\")\n",
    "    name = name.strip()\n",
    "    \n",
    "    return name"
   ]
  },
  {
   "cell_type": "code",
   "execution_count": 152,
   "id": "2ccbf0c5",
   "metadata": {},
   "outputs": [],
   "source": [
    "# df['ADJ Name'] = df['DBA Name']\n",
    "# df['ADJ Name'] = df['ADJ Name'].str.upper()\n",
    "# df['ADJ Name']=df['ADJ Name'].apply(clean_name)"
   ]
  },
  {
   "cell_type": "markdown",
   "id": "4618bde3",
   "metadata": {},
   "source": [
    "# Integrity Check for Unique Keys"
   ]
  },
  {
   "cell_type": "markdown",
   "id": "be7e9727",
   "metadata": {},
   "source": [
    "### Checking Name to License Number\n",
    "This should show if there are any instances where the License # is recorded under two different business names"
   ]
  },
  {
   "cell_type": "code",
   "execution_count": 17,
   "id": "b1d4046d",
   "metadata": {},
   "outputs": [
    {
     "name": "stdout",
     "output_type": "stream",
     "text": [
      "15\n"
     ]
    },
    {
     "data": {
      "text/html": [
       "<div>\n",
       "<style scoped>\n",
       "    .dataframe tbody tr th:only-of-type {\n",
       "        vertical-align: middle;\n",
       "    }\n",
       "\n",
       "    .dataframe tbody tr th {\n",
       "        vertical-align: top;\n",
       "    }\n",
       "\n",
       "    .dataframe thead th {\n",
       "        text-align: right;\n",
       "    }\n",
       "</style>\n",
       "<table border=\"1\" class=\"dataframe\">\n",
       "  <thead>\n",
       "    <tr style=\"text-align: right;\">\n",
       "      <th></th>\n",
       "      <th>0</th>\n",
       "      <th>1</th>\n",
       "      <th>2</th>\n",
       "    </tr>\n",
       "  </thead>\n",
       "  <tbody>\n",
       "    <tr>\n",
       "      <th>0</th>\n",
       "      <td>2501800.0</td>\n",
       "      <td>[1989855, COLD STONE CREAMERY #20658]</td>\n",
       "      <td>[1989609, COLD STONE CREAMERY #23263]</td>\n",
       "    </tr>\n",
       "    <tr>\n",
       "      <th>1</th>\n",
       "      <td>2369178.0</td>\n",
       "      <td>[2078592, MEDITERRANEAN EXPRESS]</td>\n",
       "      <td>[1561439, EXPRESS FOOD TRUCKS]</td>\n",
       "    </tr>\n",
       "    <tr>\n",
       "      <th>2</th>\n",
       "      <td>2398123.0</td>\n",
       "      <td>[1633183, RED SEA RESTAURANT]</td>\n",
       "      <td>[1506487, AZUL]</td>\n",
       "    </tr>\n",
       "    <tr>\n",
       "      <th>3</th>\n",
       "      <td>2262479.0</td>\n",
       "      <td>[2028603, LIFEWAY KEFIR SHOP]</td>\n",
       "      <td>[1453926, STARFRUIT CAFE]</td>\n",
       "    </tr>\n",
       "    <tr>\n",
       "      <th>4</th>\n",
       "      <td>2369214.0</td>\n",
       "      <td>[1559439, CESCAS MARGARITA BAR]</td>\n",
       "      <td>[1522351, DON CESARS MEXICAN GRILL]</td>\n",
       "    </tr>\n",
       "    <tr>\n",
       "      <th>5</th>\n",
       "      <td>2278975.0</td>\n",
       "      <td>[1770960, NAANSENSE FOOD TRUCK]</td>\n",
       "      <td>[1360402, CURRIED]</td>\n",
       "    </tr>\n",
       "    <tr>\n",
       "      <th>6</th>\n",
       "      <td>2262479.0</td>\n",
       "      <td>[2028603, LIFEWAY KEFIR SHOP]</td>\n",
       "      <td>[1146455, STARFRUIT CAFE]</td>\n",
       "    </tr>\n",
       "    <tr>\n",
       "      <th>7</th>\n",
       "      <td>2245370.0</td>\n",
       "      <td>[1354144, TRAVELLE]</td>\n",
       "      <td>[1139022, PACIFIC LANGHAM CHICAGOPORATION]</td>\n",
       "    </tr>\n",
       "    <tr>\n",
       "      <th>8</th>\n",
       "      <td>2138503.0</td>\n",
       "      <td>[1184231, OGDEN MARARTHON]</td>\n",
       "      <td>[1184219, OGDEN MARATHON]</td>\n",
       "    </tr>\n",
       "    <tr>\n",
       "      <th>9</th>\n",
       "      <td>2120267.0</td>\n",
       "      <td>[577651, JR BURRITOS SHACK]</td>\n",
       "      <td>[577618, JR BURRITO SHACK]</td>\n",
       "    </tr>\n",
       "    <tr>\n",
       "      <th>10</th>\n",
       "      <td>2120365.0</td>\n",
       "      <td>[1399248, TORTUGA CANTINA]</td>\n",
       "      <td>[521794, UR INN]</td>\n",
       "    </tr>\n",
       "    <tr>\n",
       "      <th>11</th>\n",
       "      <td>2093141.0</td>\n",
       "      <td>[580724, JENNY GOURMET RESTAURANT]</td>\n",
       "      <td>[580587, JEANNY GOURMET RESTAURANT]</td>\n",
       "    </tr>\n",
       "    <tr>\n",
       "      <th>12</th>\n",
       "      <td>1797814.0</td>\n",
       "      <td>[166216, SOUL VEGETERAN EASTORPORATED]</td>\n",
       "      <td>[420152, SOUL VEGETERIAN EASTORPORATED]</td>\n",
       "    </tr>\n",
       "    <tr>\n",
       "      <th>13</th>\n",
       "      <td>2042660.0</td>\n",
       "      <td>[327258, ALFREDO MEJIA]</td>\n",
       "      <td>[277092, TAQUERIA EL PRIMO]</td>\n",
       "    </tr>\n",
       "    <tr>\n",
       "      <th>14</th>\n",
       "      <td>1992451.0</td>\n",
       "      <td>[233289, SPANKY PIZZA]</td>\n",
       "      <td>[176206, NINO PIZZA]</td>\n",
       "    </tr>\n",
       "  </tbody>\n",
       "</table>\n",
       "</div>"
      ],
      "text/plain": [
       "            0                                       1  \\\n",
       "0   2501800.0   [1989855, COLD STONE CREAMERY #20658]   \n",
       "1   2369178.0        [2078592, MEDITERRANEAN EXPRESS]   \n",
       "2   2398123.0           [1633183, RED SEA RESTAURANT]   \n",
       "3   2262479.0           [2028603, LIFEWAY KEFIR SHOP]   \n",
       "4   2369214.0         [1559439, CESCAS MARGARITA BAR]   \n",
       "5   2278975.0         [1770960, NAANSENSE FOOD TRUCK]   \n",
       "6   2262479.0           [2028603, LIFEWAY KEFIR SHOP]   \n",
       "7   2245370.0                     [1354144, TRAVELLE]   \n",
       "8   2138503.0              [1184231, OGDEN MARARTHON]   \n",
       "9   2120267.0             [577651, JR BURRITOS SHACK]   \n",
       "10  2120365.0              [1399248, TORTUGA CANTINA]   \n",
       "11  2093141.0      [580724, JENNY GOURMET RESTAURANT]   \n",
       "12  1797814.0  [166216, SOUL VEGETERAN EASTORPORATED]   \n",
       "13  2042660.0                 [327258, ALFREDO MEJIA]   \n",
       "14  1992451.0                  [233289, SPANKY PIZZA]   \n",
       "\n",
       "                                             2  \n",
       "0        [1989609, COLD STONE CREAMERY #23263]  \n",
       "1               [1561439, EXPRESS FOOD TRUCKS]  \n",
       "2                              [1506487, AZUL]  \n",
       "3                    [1453926, STARFRUIT CAFE]  \n",
       "4          [1522351, DON CESARS MEXICAN GRILL]  \n",
       "5                           [1360402, CURRIED]  \n",
       "6                    [1146455, STARFRUIT CAFE]  \n",
       "7   [1139022, PACIFIC LANGHAM CHICAGOPORATION]  \n",
       "8                    [1184219, OGDEN MARATHON]  \n",
       "9                   [577618, JR BURRITO SHACK]  \n",
       "10                            [521794, UR INN]  \n",
       "11         [580587, JEANNY GOURMET RESTAURANT]  \n",
       "12     [420152, SOUL VEGETERIAN EASTORPORATED]  \n",
       "13                 [277092, TAQUERIA EL PRIMO]  \n",
       "14                        [176206, NINO PIZZA]  "
      ]
     },
     "execution_count": 17,
     "metadata": {},
     "output_type": "execute_result"
    }
   ],
   "source": [
    "name_col = df.columns.get_loc(\"DBA Name\")\n",
    "insp_col = df.columns.get_loc(\"Inspection ID\")\n",
    "lic_col = df.columns.get_loc(\"License #\")\n",
    "type_col = df.columns.get_loc(\"Inspection Type\")\n",
    "\n",
    "indict = {}\n",
    "violations=[]\n",
    "\n",
    "for x in range(0,len(df)):\n",
    "    if df.iat[x,lic_col]!=0 and df.iat[x,type_col]==\"License\":\n",
    "        if not df.iat[x,lic_col] in indict.keys():\n",
    "            indict[df.iat[x,lic_col]]=[df.iat[x,insp_col],df.iat[x,adjcol]]\n",
    "        else:\n",
    "            if not indict[df.iat[x,lic_col]][1]==df.iat[x,adjcol]:\n",
    "                violations.append([df.iat[x,lic_col],indict[df.iat[x,lic_col]],[df.iat[x,insp_col],df.iat[x,adjcol]]])\n",
    "print(len(violations))\n",
    "name_violations = pd.DataFrame(violations)\n",
    "name_violations\n",
    "#Output should be of form:\n",
    "#Licence # | [Inspection ID, DBA NAME] | [Inspection ID, DBA NAME]"
   ]
  },
  {
   "cell_type": "code",
   "execution_count": 13,
   "id": "4991afdc",
   "metadata": {},
   "outputs": [],
   "source": [
    "name_violations.to_csv(\"name_violations.csv\",index=False)"
   ]
  },
  {
   "cell_type": "code",
   "execution_count": 14,
   "id": "6700595e",
   "metadata": {},
   "outputs": [
    {
     "name": "stdout",
     "output_type": "stream",
     "text": [
      "0\n"
     ]
    }
   ],
   "source": [
    "#Integrity Check for Inspection ID\n",
    "indict = {}\n",
    "violations=[]\n",
    "for x in range(0,len(df)):\n",
    "    if not df.iat[x,0] in indict.keys():\n",
    "        indict[df.iat[x,0]]=df.iat[x,1]\n",
    "    else:\n",
    "        violations.append([df.iat[x,0],df.iat[x,1],indict[df.iat[x,0]]])\n",
    "print(len(violations))"
   ]
  },
  {
   "cell_type": "code",
   "execution_count": 39,
   "id": "6e715a91",
   "metadata": {},
   "outputs": [
    {
     "data": {
      "text/plain": [
       "[]"
      ]
     },
     "execution_count": 39,
     "metadata": {},
     "output_type": "execute_result"
    }
   ],
   "source": [
    "violations"
   ]
  },
  {
   "cell_type": "code",
   "execution_count": null,
   "id": "2df8ce1a",
   "metadata": {},
   "outputs": [],
   "source": []
  }
 ],
 "metadata": {
  "kernelspec": {
   "display_name": "Python 3 (ipykernel)",
   "language": "python",
   "name": "python3"
  },
  "language_info": {
   "codemirror_mode": {
    "name": "ipython",
    "version": 3
   },
   "file_extension": ".py",
   "mimetype": "text/x-python",
   "name": "python",
   "nbconvert_exporter": "python",
   "pygments_lexer": "ipython3",
   "version": "3.8.5"
  }
 },
 "nbformat": 4,
 "nbformat_minor": 5
}
